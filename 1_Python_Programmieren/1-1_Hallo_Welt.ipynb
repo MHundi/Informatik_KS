{
 "cells": [
  {
   "cell_type": "markdown",
   "metadata": {},
   "source": [
    "# I Programmieren mit Python\n",
    "## 1 Hallo Welt\n",
    "\n",
    "### 1.1 vs code\n",
    "\n",
    "- mehr als ein Texteditor\n",
    "- weniger als eine Entwicklungsumgebung (=IDE = \"Integrated Development Invironment)\n",
    "- Komfortables Programmieren \n",
    "- erweiterbar mit Extension\n",
    "\n",
    "\n",
    "### 1.2 Jupyter Notebook\n",
    "\n",
    "- Integriert\n",
    "    - Markdown Umgebung\n",
    "    - (Python) Umgebung\n",
    "-\n",
    " "
   ]
  },
  {
   "cell_type": "markdown",
   "metadata": {},
   "source": [
    "#### 1.2.1 Markdown Language"
   ]
  },
  {
   "cell_type": "markdown",
   "metadata": {},
   "source": [
    "#### 1.2.2 Python"
   ]
  },
  {
   "cell_type": "code",
   "execution_count": 4,
   "metadata": {},
   "outputs": [
    {
     "name": "stdout",
     "output_type": "stream",
     "text": [
      "Hello world\n"
     ]
    }
   ],
   "source": [
    "# Mein erstes Programm\n",
    "print(\"Hello world\")"
   ]
  },
  {
   "cell_type": "code",
   "execution_count": null,
   "metadata": {},
   "outputs": [],
   "source": []
  }
 ],
 "metadata": {
  "kernelspec": {
   "display_name": "Python 3",
   "language": "python",
   "name": "python3"
  },
  "language_info": {
   "codemirror_mode": {
    "name": "ipython",
    "version": 3
   },
   "file_extension": ".py",
   "mimetype": "text/x-python",
   "name": "python",
   "nbconvert_exporter": "python",
   "pygments_lexer": "ipython3",
   "version": "3.11.4"
  },
  "orig_nbformat": 4
 },
 "nbformat": 4,
 "nbformat_minor": 2
}
