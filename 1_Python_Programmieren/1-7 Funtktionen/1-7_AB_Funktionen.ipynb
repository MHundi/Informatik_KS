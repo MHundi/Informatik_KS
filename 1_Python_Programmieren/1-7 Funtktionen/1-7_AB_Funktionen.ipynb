{
 "cells": [
  {
   "cell_type": "markdown",
   "metadata": {},
   "source": [
    "## Aufgabenblatt 3: Funktionen\n"
   ]
  },
  {
   "cell_type": "markdown",
   "metadata": {},
   "source": [
    "**Aufgabe 1:**\n",
    "\n"
   ]
  },
  {
   "cell_type": "markdown",
   "metadata": {},
   "source": [
    "**Lösung:**"
   ]
  },
  {
   "cell_type": "markdown",
   "metadata": {},
   "source": [
    "\n",
    "**Aufgabe 2:** Celsius nach Fahrenheit\n",
    "Schreiben Sie ein Python-Script, welches den Benutzer dazu auffordert einen Celsius-Wert (Fließkommazahl) einzugeben und anschließend den entspre-chenden, auf zwei Nachkommastellen gerundeten, Fahrenheit-Wert ausgibt.\n",
    "Der Aufruf des Scripts, bei dem der Benutzer den Celsius-Wert -12.715 eingibt, soll dabei folgende Ausgabe erzeugen:\n",
    "\n",
    "Celsius: -12.715\n",
    "Fahrenheit: 9.11\n",
    "\n",
    "Hinweis: Zum Runden können Sie die Funktion round verwenden. Konsultieren Sie hierzu help(round) in einem Python-Feld.\n",
    "\n",
    "Hinweis: Strings können wie folgt zu Fließkommazahlen konvertiert werden: \n",
    "\n",
    "`float('2.3450')`\n",
    "\n",
    "`> 2.345`\n",
    "\n",
    "Versucht man einen String, der keiner Fließkommazahl entspricht, zu konvertieren, wird die Ausführung des Programms durch eine Ausnahme zum Absturz gebracht:\n",
    "\n",
    "float('not a number')\n",
    "Traceback (most recent call last):\n",
    "File \"<stdin>\", line 1, in <module>\n",
    "ValueError: could not convert string to float: 'not a number'\n",
    "\n",
    "In Ihrem Python-Script dürfen Sie dies ignorieren. Sie können also annehmen, dass der Benutzer stehts eine Fließkommazahl eingibt.\n"
   ]
  },
  {
   "cell_type": "markdown",
   "metadata": {},
   "source": [
    "**Lösung:**"
   ]
  },
  {
   "cell_type": "code",
   "execution_count": null,
   "metadata": {},
   "outputs": [],
   "source": []
  },
  {
   "cell_type": "markdown",
   "metadata": {},
   "source": [
    "**Aufgabe 3:**"
   ]
  },
  {
   "cell_type": "markdown",
   "metadata": {},
   "source": [
    "**Lösung:**"
   ]
  },
  {
   "cell_type": "code",
   "execution_count": null,
   "metadata": {},
   "outputs": [],
   "source": []
  }
 ],
 "metadata": {
  "kernelspec": {
   "display_name": "Python 3",
   "language": "python",
   "name": "python3"
  },
  "language_info": {
   "codemirror_mode": {
    "name": "ipython",
    "version": 3
   },
   "file_extension": ".py",
   "mimetype": "text/x-python",
   "name": "python",
   "nbconvert_exporter": "python",
   "pygments_lexer": "ipython3",
   "version": "3.11.4"
  }
 },
 "nbformat": 4,
 "nbformat_minor": 2
}
