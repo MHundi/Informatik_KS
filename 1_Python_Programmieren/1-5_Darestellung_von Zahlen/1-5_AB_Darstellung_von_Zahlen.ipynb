{
 "cells": [
  {
   "cell_type": "markdown",
   "metadata": {},
   "source": [
    "## Aufgabenblatt 1: Darstellung von Zahlen"
   ]
  },
  {
   "cell_type": "markdown",
   "metadata": {},
   "source": [
    "**Aufgabe 1**\n"
   ]
  },
  {
   "cell_type": "markdown",
   "metadata": {},
   "source": [
    "Erstellen Sie die Wertetabelle der binären und Multiplikation eines Wortes der Wortlänge 1"
   ]
  },
  {
   "cell_type": "markdown",
   "metadata": {},
   "source": []
  },
  {
   "cell_type": "markdown",
   "metadata": {},
   "source": [
    "**Aufgabe 2**\n",
    "\n",
    "Berechnen Sie folgende Aufgaben:\n",
    "\n",
    "a) $101010_2 + 1001011_2$\n",
    "\n",
    "b) $1011_2 \\cdot 110_2$\n",
    "\n",
    "c) $1001_2 - 110_2$\n",
    "\n",
    "d) $10101 : 101$"
   ]
  },
  {
   "cell_type": "markdown",
   "metadata": {},
   "source": []
  },
  {
   "cell_type": "markdown",
   "metadata": {},
   "source": [
    "**Aufabe 3**\n",
    "\n",
    "Handelt es sich bei folgender, umgangssprachlich, prozeduralen Beschreibung um einen Algorithmus? \n",
    "\n",
    "Überprüfen Sie dazu die Vorschrift auf die Eigenschaften\n",
    "\n",
    "- Präszision\n",
    "- Effektivität\n",
    "- statische Finitheit\n",
    "- dynamische Finitheit\n",
    "- und Terminierung.\n",
    "\n",
    "Begründen Sie kurz ihre Antwort.\n",
    "\n",
    "\n",
    "\n",
    "*Gegeben seien zwei positive Zahlen a, b. Setze k = 0. Solange k kleiner ist als b, führe folgende Schritte durch: Addiere b zu a hinzu (b bleibt unverändert). Falls a nun gerade ist, erhöhe k um 1. Ist k größer oder gleich b, gib a aus.*\n"
   ]
  },
  {
   "cell_type": "markdown",
   "metadata": {},
   "source": []
  }
 ],
 "metadata": {
  "kernelspec": {
   "display_name": "Python 3",
   "language": "python",
   "name": "python3"
  },
  "language_info": {
   "codemirror_mode": {
    "name": "ipython",
    "version": 3
   },
   "file_extension": ".py",
   "mimetype": "text/x-python",
   "name": "python",
   "nbconvert_exporter": "python",
   "pygments_lexer": "ipython3",
   "version": "3.11.4"
  }
 },
 "nbformat": 4,
 "nbformat_minor": 2
}
