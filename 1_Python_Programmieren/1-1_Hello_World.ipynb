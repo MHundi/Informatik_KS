{
 "cells": [
  {
   "cell_type": "markdown",
   "metadata": {},
   "source": [
    "# I Programmieren mit Python\n",
    "## 1 Hello World\n",
    "\n",
    "### 1.1 Terminal\n",
    "\n",
    "- direkte Anweisungen an den Computer\n",
    "- mehr Kontrolle über das Betriebssystem\n",
    "- weitere Programme ausführen\n",
    "- schneller\n",
    "- Kontrolle\n",
    "- Terminal-Befehle:\n",
    "    - ls -al: list - Inhalt eines Ordners anzeigen\n",
    "    - cd: change directory - Ordner wechseln\n",
    "    - pwd: print working directory\n",
    "    - mkdir: make directory - Ordner erstellen\n",
    "    - cp: copy\n",
    "    - mv: move - verschieben oder umbenennen\n",
    "    - rm -R: remove - löschen von Dateien oder Orndern\n",
    "    - nano: kleiner Editor\n",
    "    - man: manual - Hilfe\n",
    "\n",
    "### 1.2 Visual Studio Code\n",
    "\n",
    "- mehr als ein Texteditor, weniger als eine Entwicklungsumgebung (=IDE = \"Integrated Development Invironment)\n",
    "- Komfortables Programmieren \n",
    "- erweiterbar mit Extensions\n",
    "- Terminal integriert\n",
    "- Versionen für MacOS, Windows und Linux\n",
    "\n",
    "\n",
    "\n",
    "### 1.3 Jupyter Notebook / Jupyter Lab\n",
    "\n",
    "- quelloffene und kostenlose WebAndendung\n",
    "- Integriert\n",
    "    - Markdown Umgebung\n",
    "    - (Python) Umgebung\n",
    "- Verwendung von Data Scientists\n",
    "- Austausch von Daten\n",
    "- bis zu 40 Programmiersprachen werden unterstützt\n",
    "- Dokumente gut lesbar\n",
    " "
   ]
  },
  {
   "cell_type": "markdown",
   "metadata": {},
   "source": [
    "### "
   ]
  },
  {
   "cell_type": "markdown",
   "metadata": {},
   "source": [
    "### 1.4 Markdown Language"
   ]
  },
  {
   "cell_type": "markdown",
   "metadata": {},
   "source": [
    "### 1.5 Python"
   ]
  },
  {
   "cell_type": "code",
   "execution_count": 2,
   "metadata": {},
   "outputs": [
    {
     "name": "stdout",
     "output_type": "stream",
     "text": [
      "Hello world\n"
     ]
    }
   ],
   "source": [
    "# Mein erstes Programm\n",
    "print(\"Hello world\")"
   ]
  },
  {
   "cell_type": "code",
   "execution_count": null,
   "metadata": {},
   "outputs": [],
   "source": []
  }
 ],
 "metadata": {
  "kernelspec": {
   "display_name": "Python 3",
   "language": "python",
   "name": "python3"
  },
  "language_info": {
   "codemirror_mode": {
    "name": "ipython",
    "version": 3
   },
   "file_extension": ".py",
   "mimetype": "text/x-python",
   "name": "python",
   "nbconvert_exporter": "python",
   "pygments_lexer": "ipython3",
   "version": "3.11.4"
  },
  "orig_nbformat": 4
 },
 "nbformat": 4,
 "nbformat_minor": 2
}
