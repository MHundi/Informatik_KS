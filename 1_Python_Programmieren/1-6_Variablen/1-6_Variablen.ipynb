{
 "cells": [
  {
   "cell_type": "markdown",
   "metadata": {},
   "source": [
    "## Variablen"
   ]
  },
  {
   "cell_type": "markdown",
   "metadata": {},
   "source": [
    "Folgende Datentypen für  Variablen möglich:\n",
    "- int, float\n",
    "- string\n",
    "- boolean\n",
    "- List\n",
    "- Tuple\n",
    "\n",
    "**Beispiel:**"
   ]
  },
  {
   "cell_type": "code",
   "execution_count": 6,
   "metadata": {},
   "outputs": [
    {
     "name": "stdout",
     "output_type": "stream",
     "text": [
      "123\n"
     ]
    }
   ],
   "source": [
    "note = 123\n",
    "print(note)"
   ]
  },
  {
   "cell_type": "markdown",
   "metadata": {},
   "source": [
    "**Zuweisung:**\n",
    "\n",
    "Syntax der Zuweisung: \n",
    "\n",
    "```Python\n",
    "Variable = Ausdruck\n",
    "``````\n",
    "\n",
    "- in Python: Pro Zeile nur eine Anweisung!    \n",
    "- linke Seite: Bezeichner = Variablennamen = Identifier\n",
    "\n",
    "- rechte Seite: Ausdruck oder ein Wert\n",
    "\n",
    "- Gleichheitszeichen:\n",
    "-   Zuweisungsoperator\n",
    "-   Kein mathematisches Gleichheitszeichen.\n",
    "\n",
    "- Variablen sind erst nach einer Anweisung verwendbar.\n",
    "- Erst wird die rechte Seite ausgwertet und dann an die Variable zugewiesen.\n",
    "\n"
   ]
  },
  {
   "cell_type": "markdown",
   "metadata": {
    "slideshow": {
     "slide_type": "subslide"
    }
   },
   "source": [
    "**Analogie:**\n",
    "\n",
    "<img src=\"/Users/martin/Workspace/Jupyter_Notebooks/Informatik_KS/images/tassenschrank.jpeg\"\n",
    "     style=\"padding-left: 2.5em\"\n",
    "     width=\"700\"\n",
    "/>\n",
    "- Speicher: Schrank von Teetassen\n",
    "- Zuweisung legt Wert in eine Tasse \n"
   ]
  },
  {
   "cell_type": "markdown",
   "metadata": {},
   "source": [
    "**Belegung der Vaiablen**\n",
    "\n",
    "```python\n",
    "    note=123 (Zahl)\n",
    "\n",
    "    text='Hallole' (String)\n",
    "\n",
    "``````\n",
    "\n",
    "Zustand eines Programms nach Ausführung wird vollständig beschrieben durch die Belegung aller Variablen mit Werten.\n",
    "\n",
    "**Syntax Bezeichner**\n",
    "\n",
    "- Buchstaben, Unterstriche und Ziffern\n",
    "- erste Zeichen keine Zifer\n",
    "- keine Leerzeichen\n",
    "- keine Python Schlüsselwörter (if, else, return, class, or,...)"
   ]
  },
  {
   "cell_type": "markdown",
   "metadata": {},
   "source": [
    "**Ausdrücke**\n",
    "- bestehen aus Operatoren, Literalen und Variablen.\n",
    "- Auswertung eines Ausdrucks liefert einen Wert oder bricht mit Fehlermeldung ab.\n",
    "- Auswertung bei arithmetischen Ausdrücken\n",
    "    - Klammern zuerst \n",
    "    - dann Potenzen\n",
    "    - dann Multiplikation / Division\n",
    "    - dann Addition / Suptration\n",
    "    - ansonten von links nach rechts.\n",
    "\n",
    "    **Beispiele:**\n"
   ]
  },
  {
   "cell_type": "code",
   "execution_count": 7,
   "metadata": {},
   "outputs": [
    {
     "name": "stdout",
     "output_type": "stream",
     "text": [
      "512\n"
     ]
    }
   ],
   "source": [
    "note = 4\n",
    "print(2*4**note)"
   ]
  },
  {
   "cell_type": "markdown",
   "metadata": {},
   "source": [
    "- Auswertung bei Strings\n",
    "    - das Plus (+) ist der Verkettungsopertor (Konkatenation)"
   ]
  },
  {
   "cell_type": "code",
   "execution_count": 8,
   "metadata": {},
   "outputs": [
    {
     "name": "stdout",
     "output_type": "stream",
     "text": [
      "hamegg\n"
     ]
    }
   ],
   "source": [
    "print('ham' + 'egg')"
   ]
  },
  {
   "cell_type": "markdown",
   "metadata": {},
   "source": [
    "-\n",
    "    - Strings mit Zahlen multiplizieren (Pythonspezifisch)"
   ]
  },
  {
   "cell_type": "code",
   "execution_count": 9,
   "metadata": {},
   "outputs": [
    {
     "name": "stdout",
     "output_type": "stream",
     "text": [
      "eggeggegg\n"
     ]
    }
   ],
   "source": [
    "print(3*'egg')"
   ]
  },
  {
   "cell_type": "markdown",
   "metadata": {},
   "source": [
    "   - - assert: Überprüfung, ob er Wert eines Strings einem vorgegebenen entspricht, für Tests"
   ]
  },
  {
   "cell_type": "code",
   "execution_count": 10,
   "metadata": {},
   "outputs": [],
   "source": [
    "assert 0* 'egg' == ''"
   ]
  },
  {
   "cell_type": "code",
   "execution_count": null,
   "metadata": {},
   "outputs": [],
   "source": []
  }
 ],
 "metadata": {
  "kernelspec": {
   "display_name": "Python 3",
   "language": "python",
   "name": "python3"
  },
  "language_info": {
   "codemirror_mode": {
    "name": "ipython",
    "version": 3
   },
   "file_extension": ".py",
   "mimetype": "text/x-python",
   "name": "python",
   "nbconvert_exporter": "python",
   "pygments_lexer": "ipython3",
   "version": "3.11.4"
  }
 },
 "nbformat": 4,
 "nbformat_minor": 2
}
