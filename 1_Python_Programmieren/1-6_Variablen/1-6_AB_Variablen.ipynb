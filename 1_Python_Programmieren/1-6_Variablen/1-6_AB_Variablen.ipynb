{
 "cells": [
  {
   "cell_type": "markdown",
   "metadata": {},
   "source": [
    "## Aufgabenblatt 2: Variablen\n"
   ]
  },
  {
   "cell_type": "markdown",
   "metadata": {},
   "source": [
    "**Aufgabe 1:**\n",
    "\n",
    "a) Prüfen Sie, ob Umlaute in Python verwendbar für Bezeichner sind.\n",
    "\n",
    "b) Prüfen Sie, ob Pyhon bei Bezeichnern zwischen Groß- und Kleinschreibung unterscheidet.\n",
    "\n",
    "c) Untersuchen Sie, was passiert, wenn Sie eine Variable verwenden, welcher kein Wert zugewisen wurde.\n"
   ]
  },
  {
   "cell_type": "markdown",
   "metadata": {},
   "source": [
    "**Lösung:**"
   ]
  },
  {
   "cell_type": "markdown",
   "metadata": {},
   "source": [
    "**Aufgabe 2:**\n",
    "\n",
    "Prüfen Sie die Aussgabe folgender Programme und schreiben Sie eine Erklärung dazu.\n",
    "\n",
    "a) `print(-2*\"egg\")`\n",
    "\n",
    "b) `assert 0*'egg`\n",
    "\n",
    "c) \n",
    "```\n",
    "    egg=42\n",
    "    spam =egg//7\n",
    "    print(egg)\n"
   ]
  },
  {
   "cell_type": "markdown",
   "metadata": {},
   "source": [
    "**Lösung:**"
   ]
  },
  {
   "cell_type": "markdown",
   "metadata": {},
   "source": [
    "**Aufgabe 3:**\n",
    "\n",
    "Bestimmen Sie nach jeder der folgenden Wertzuweisungen an die Variable `result` den\n",
    "Typ von `result`. Geben Sie jeweils eine kurze Erläuterung, warum das so ist.\n",
    "\n",
    "a) \n",
    "```\n",
    "    from math import log2\n",
    "    result = int(log2(64)) + 2 ** abs(1+1j)\n",
    "```\n",
    "b) \n",
    "```\n",
    "    from math import sqrt, floor, ceil\n",
    "    result = floor(2.3 * 7) * ceil(2 ** 3 + 7.1)\n",
    "```\n",
    "c) \n",
    "```\n",
    "    from math import pi, sin, cos, radians\n",
    "    res = cos(pi/4)**2 + sin(radians(45))**2j\n",
    "```\n",
    "d)\n",
    " ```\n",
    "    result = 6 * round(2.1, 1) // 1\n",
    "```"
   ]
  },
  {
   "cell_type": "markdown",
   "metadata": {},
   "source": [
    "**Lösung:**"
   ]
  }
 ],
 "metadata": {
  "language_info": {
   "name": "python"
  }
 },
 "nbformat": 4,
 "nbformat_minor": 2
}
